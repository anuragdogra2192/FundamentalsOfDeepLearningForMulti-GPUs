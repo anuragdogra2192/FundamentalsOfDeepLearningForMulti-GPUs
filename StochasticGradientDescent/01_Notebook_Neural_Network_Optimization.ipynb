{
 "cells": [
  {
   "cell_type": "markdown",
   "metadata": {},
   "source": [
    "<img src=\"./images/DLI_Header.png\">"
   ]
  },
  {
   "cell_type": "markdown",
   "metadata": {},
   "source": [
    "# Review of Neural Network Optimization\n",
    "\n",
    "Welcome to the first lab of the course. The goal of this exercise is threefold:\n",
    "\n",
    "- Review some basic concepts of neural network training and establish a common vocabulary for the class.\n",
    "- Illustrate the basic principles involved in training of a neural network (in particular, stochastic gradient descent).\n",
    "- Create a foundation for the next labs in this class that will eventually lead us to a multi-GPU implementation of a neural network.\n",
    "\n",
    "We will start with the simplest possible neural network, a single linear neuron:\n",
    "\n",
    "<img src=\"https://developer.download.nvidia.com/training/images/C-MG-01-V1_task1_img_LinearNeuron.png\" width=\"300\" height=\"300\"/> \n",
    "\n",
    "We will illustrate how this neural network can be trained using gradient descent and stochastic gradient descent algorithms. "
   ]
  },
  {
   "cell_type": "markdown",
   "metadata": {},
   "source": [
    "Upon completion of this exercise you will gain a detailed understanding on the theory involved in training a neural network, focusing initially only on a single GPU. We will use this knowledge later to illustrate all of the practical challenges involved in large scale distributed training and review a state of the art implementation of a distributed training of a modern deep neural network."
   ]
  },
  {
   "cell_type": "markdown",
   "metadata": {},
   "source": [
    "## Training a neural network\n",
    "\n",
    "### Generating a random dataset\n",
    "\n",
    "In this exercise we will train our neural network to fit a randomly generated dataset representing a line with random noise added to it. We are choosing to use a simple neural network that matches this dataset: although the equation for a line cannot exactly match the data, due to the noise, it is a very good approximation that still allows us to dig into the neural network training process.\n",
    "\n",
    "We start by importing the necessary Python libraries. Since this exercise is deliberately simple the list is quite short:"
   ]
  },
  {
   "cell_type": "code",
   "execution_count": null,
   "metadata": {},
   "outputs": [],
   "source": [
    "# Numpy is a fundamental package for scientific computing. It contains an implementation of an array\n",
    "# that we will use in this exercise.\n",
    "import numpy as np\n",
    "# We will be generating our own random dataset. As a consequence we need functionality to generate random numbers.\n",
    "import random\n",
    "# We will be plotting the progress of training using matplotlib, a package that can be used to generate 2D and 3D plots.\n",
    "# We use the \"widget\" option to enable interactivity later on.\n",
    "%matplotlib widget\n",
    "import matplotlib.pyplot as plt\n",
    "# We will use TensorFlow as the deep learning framework of choice for this class.\n",
    "import tensorflow as tf"
   ]
  },
  {
   "cell_type": "markdown",
   "metadata": {},
   "source": [
    "The variables listed below define the properties of this generated dataset. Let’s start with the given values (feel free to change them at a later stage to observe the impact the noise will have on algorithm performance and stability)."
   ]
  },
  {
   "cell_type": "code",
   "execution_count": null,
   "metadata": {},
   "outputs": [],
   "source": [
    "# Define the number of samples/data points you want to generate\n",
    "n_samples = 100\n",
    "# We will define a dataset that lies on a line as defined by y = w_gen * x + b_gen\n",
    "w_gen = 10\n",
    "b_gen = 2\n",
    "# To make the problem a bit more interesting we will add some Gaussian noise as \n",
    "# defined by the mean and standard deviation below.\n",
    "mean_gen = 0\n",
    "std_gen = 1"
   ]
  },
  {
   "cell_type": "code",
   "execution_count": null,
   "metadata": {},
   "outputs": [],
   "source": [
    "# This section generates the training dataset as defined by the variables in the section above.\n",
    "x = np.float32(np.random.uniform(0, 10, n_samples))\n",
    "y = np.float32(np.array([w_gen * (x + np.random.normal(loc=mean_gen, scale=std_gen, size=None)) + b_gen for x in x]))"
   ]
  },
  {
   "cell_type": "code",
   "execution_count": null,
   "metadata": {},
   "outputs": [],
   "source": [
    "# Plot our randomly generated dataset\n",
    "plt.close()\n",
    "plt.plot(x, y, 'go')\n",
    "plt.xlabel(\"x\", size=24)\n",
    "plt.ylabel(\"y\", size=24)\n",
    "plt.tick_params(axis='both', labelsize=16)\n",
    "plt.tight_layout()\n",
    "plt.show()"
   ]
  },
  {
   "cell_type": "markdown",
   "metadata": {},
   "source": [
    "### Defining the model\n",
    "\n",
    "Regardless of the complexity of the machine learning problem the process of code development consists of:\n",
    "\n",
    "- Creating a definition of the model\n",
    "- Defining the loss (cost) function that will guide our training process. The loss function is effectively a definition of success that informs our optimization algorithm about the progress made during training. </li>\n",
    "- Then iteratively:\n",
    "  - Calculating the gradient of the loss function with respect to the model weights.\n",
    "  - Updating the model weights (in the direction opposite to the gradient) to minimize the loss function.\n",
    "\n",
    "Let's implement the above for our simple model. We start by defining the model:"
   ]
  },
  {
   "cell_type": "code",
   "execution_count": null,
   "metadata": {},
   "outputs": [],
   "source": [
    "# Define the TensorFlow variables based on our inputs\n",
    "X = tf.Variable(x, name=\"X\")\n",
    "Y = tf.Variable(y, name=\"Y\")\n",
    "\n",
    "# Create our model variables w (weights; this is intended to map to the slope, w_gen) and b (bias; this maps to the intercept, b_gen).\n",
    "# For simplicity, we initialize the data to zero.\n",
    "w = tf.Variable(np.float32(0.0), name=\"weights\")\n",
    "b = tf.Variable(np.float32(0.0), name=\"bias\")\n",
    "\n",
    "# Define our model. We are implementing a simple linear neuron as per the diagram shown above.\n",
    "@tf.function\n",
    "def forward(x):\n",
    "    return w * x + b"
   ]
  },
  {
   "cell_type": "markdown",
   "metadata": {},
   "source": [
    "### Defining the loss function\n",
    "\n",
    "We now must define what we mean by success. There exists a wide range of measures of success (loss functions) that can be used by neural networks. For more details on the range of loss function you can use, and a detailed explanation of how to make this choice, refer to section 6.2.1 of the <a href=\"http://www.deeplearningbook.org/\">Deep Learning Book</a> by Ian Goodfellow, Yoshua Bengio, and Aaron Courville.\n",
    "\n",
    "In our case we will use a simple definition of success. We will measure the total <b>squared distance</b> of all of the points in the dataset from the straight line we are trying to find. \n",
    "\n",
    "<img src=\"https://developer.download.nvidia.com/training/images/C-MG-01-V1_task1_img_CostFunction.png\" width=\"350\" height=\"350\"/>"
   ]
  },
  {
   "cell_type": "code",
   "execution_count": null,
   "metadata": {},
   "outputs": [],
   "source": [
    "# We define the loss function which is an indicator of how good or bad our model is at any point of time.\n",
    "loss_fn = tf.keras.losses.MeanSquaredError()"
   ]
  },
  {
   "cell_type": "markdown",
   "metadata": {},
   "source": [
    "### Defining the optimization logic: gradient descent\n",
    "\n",
    "Having defined the model as well as the loss function, the next step is to choose the optimization algorithm we will use to find the combination of parameters **w** and **b** that minimize our loss function (and thus give us the best performance). There exists a wide range of optimization algorithms to choose from (for a more detailed discussion refer to chapter 8 of the [Deep Learning Book](http://www.deeplearningbook.org/contents/optimization.html)). In this exercise we will use one of the most basic optimization algorithms, **gradient descent**. The mechanism by which gradient descent operates is illustrated in the figure below (bear in mind that for non-convex functions, which applies to the majority of neural networks, the algorithm may end up seeking a good local minimum instead of a global one):\n",
    "\n",
    "<img src='https://developer.download.nvidia.com/training/images/C-MG-01-V1_task1_img_GradientDescent.png'/>\n",
    "\n",
    "At every step of the process, the model runs through the full dataset using the current value of the model parameters (in our case w and b) and calculates the loss. Then the gradient of the loss function is calculated (in this simple case, it is the slope of the line tangent to the curve). Once the gradient is calculated it can be used to slowly move towards the optimal solution.\n",
    "\n",
    "In practice gradient descent (or even the stochastic gradient descent method discussed below) is rarely used directly. Instead more effective variants exist that allow the algorithm to find the solution faster and provide better stability during computation. Note also that it is rarely the case that the gradient calculation and optimization logic must be written from scratch. Instead, all the key deep learning frameworks provide auto differentiation as well as a wide range of optimization algorithms. In our case we will choose a built-in implementation of gradient descent provided by the framework."
   ]
  },
  {
   "cell_type": "code",
   "execution_count": null,
   "metadata": {},
   "outputs": [],
   "source": [
    "# Define a gradient descent optimizer\n",
    "# Note that the \"SGD\" optimizer is simple gradient descent if applied\n",
    "# to the full dataset, and stochastic gradient descent if applied to\n",
    "# random subsets of the dataset\n",
    "optimizer = tf.keras.optimizers.SGD(learning_rate=0.001)"
   ]
  },
  {
   "cell_type": "markdown",
   "metadata": {},
   "source": [
    "### Training loop\n",
    "\n",
    "We have now defined our dataset, model, loss function, and optimization algorithm, so we are now ready to start the training (optimization) process. The loop presented below will use all our training data to compute the gradient of the loss function with respect to the model parameters. The optimizer called in the loop will then make small changes to the model parameters, bringing it closer and closer to our desired solution. (The size of the change in each step is determined by the learning rate that we defined earlier.) We will repeat the process enough times to reach a reasonable solution. Often the way to know that you have reached a good stopping point is that the loss function has ceased to decrease.\n",
    "\n",
    "The goal of this exercise is to understand how explain certain properties of the optimization process depend on the gradient descent method (specifically, on the batch size). To demonstrate that we will be logging the value of the loss function as we train the network and then visualize it.\n",
    "\n",
    "We've asked you to complete a small task in the below code, indicated by the `TODO` (the code will not run as is). The code block below trains for a maximum of 1000 epochs, which is much more than is needed for this problem. Write code inside the training loop that exits the loop when the training has converged. There is no universal definition of convergence, so you'll have to pick one that is appropriate for this problem. One possible choice is to stop training when the loss function changes by less than 0.1% between epochs. (Consider testing over a suitable average of previous epochs.) You could also choose to consider how fast the model parameters are changing. If you get stuck, you can always remove the convergence check and control the training process by modifying `max_number_of_epochs`."
   ]
  },
  {
   "cell_type": "code",
   "execution_count": null,
   "metadata": {},
   "outputs": [],
   "source": [
    "# Define the maximum number of times we want to process the entire dataset (the number of epochs).\n",
    "# In practice we won't run this many because we'll implement an early stopping condition that\n",
    "# detects when the training process has converged.\n",
    "max_number_of_epochs = 1000\n",
    "\n",
    "# We will store information about the optimization process here.\n",
    "loss_array = []\n",
    "b_array = []\n",
    "w_array = []\n",
    "\n",
    "# Zero out the initial values\n",
    "w.assign(0.0)\n",
    "b.assign(0.0)\n",
    "\n",
    "# Print out the parameters and loss before we do any training\n",
    "Y_predicted = forward(X)\n",
    "loss_value = loss_fn(Y_predicted, Y)\n",
    "print(\"Before training: w = {:4.3f}, b = {:4.3f}, loss = {:7.3f}\".format(w.numpy(), b.numpy(), loss_value))\n",
    "\n",
    "print(\"\")\n",
    "print(\"Starting training\")\n",
    "print(\"\")\n",
    "\n",
    "# Start the training process\n",
    "for i in range(max_number_of_epochs):\n",
    "\n",
    "    # Use the entire dataset to calculate the gradient and update the parameters\n",
    "    with tf.GradientTape() as tape:\n",
    "        Y_predicted = forward(X)\n",
    "        loss_value = loss_fn(Y_predicted, Y)\n",
    "\n",
    "    optimizer.minimize(loss_value, var_list=[w, b], tape=tape)\n",
    "\n",
    "    # Capture the data that we will use in our visualization\n",
    "    w_array.append(w.numpy())\n",
    "    b_array.append(b.numpy())\n",
    "    loss_array.append(loss_value)\n",
    "\n",
    "    if (i + 1) % 5 == 0:\n",
    "        print(\"Epoch = {:2d}: w = {:4.3f}, b = {:4.3f}, loss = {:7.3f}\".format(i+1, w.numpy(), b.numpy(), loss_value))\n",
    "\n",
    "    # Implement your convergence check here, and exit the training loop if\n",
    "    # you detect that we are converged:\n",
    "    if FIXME: # TODO\n",
    "        break\n",
    "\n",
    "print(\"\")\n",
    "print(\"Training finished after {} epochs\".format(i+1))\n",
    "print(\"\")\n",
    "\n",
    "print(\"After training: w = {:4.3f}, b = {:4.3f}, loss = {:7.3f}\".format(w.numpy(), b.numpy(), loss_value))"
   ]
  },
  {
   "cell_type": "markdown",
   "metadata": {},
   "source": [
    "If you get stuck with the above exercise, reveal the cell below (by clicking on the three dots) to see an example convergence check."
   ]
  },
  {
   "cell_type": "markdown",
   "metadata": {
    "jupyter": {
     "source_hidden": true
    }
   },
   "source": [
    "<font face=\"courier\">\n",
    "<pre>\n",
    "            # Example solution for the convergence check<br />\n",
    "            if i > 1 and abs(loss_array[i] - loss_array[i-1]) / loss_array[i-1] < 0.001:<br />\n",
    "</pre>\n",
    "</font>"
   ]
  },
  {
   "cell_type": "markdown",
   "metadata": {},
   "source": [
    "From the output listed below we can see that we have managed to minimize our loss by a very large amount and managed to obtain a solution reasonably close to the expected function. (Compare the current values of w and b with the target values, w_gen and b_gen.) Now let's plot the loss as a function of time (number of completed epochs). This plot is fundamental for monitoring the progress of the training process, and helps us understand how to make decisions related to model or dataset improvement."
   ]
  },
  {
   "cell_type": "code",
   "execution_count": null,
   "metadata": {},
   "outputs": [],
   "source": [
    "plt.close()\n",
    "plt.plot(loss_array)\n",
    "plt.xlabel(\"Epoch\", size=24)\n",
    "plt.ylabel(\"Loss\", size=24)\n",
    "plt.tick_params(axis='both', labelsize=16)\n",
    "plt.tight_layout()\n",
    "plt.show()"
   ]
  },
  {
   "cell_type": "markdown",
   "metadata": {},
   "source": [
    "### Investigating the progress of the loss function\n",
    "\n",
    "Since in our case the loss function depends on only two parameters (w and b) it is possible to directly visualize its shape. Moreover, it is possible to visualize the trajectory that our optimization algorithm took in this loss function space. The below plot illustrates just that (note that this plot is interactive and you can rotate it):"
   ]
  },
  {
   "cell_type": "code",
   "execution_count": null,
   "metadata": {},
   "outputs": [],
   "source": [
    "from mpl_toolkits.mplot3d import Axes3D\n",
    "fig = plt.figure()\n",
    "ax = fig.gca(projection='3d')\n",
    "\n",
    "ax.scatter(w_array, b_array, loss_array)\n",
    "\n",
    "ax.set_xlabel('w', size=16)\n",
    "ax.set_ylabel('b', size=16)\n",
    "ax.tick_params(labelsize=12)\n",
    "\n",
    "plt.show()"
   ]
  },
  {
   "cell_type": "markdown",
   "metadata": {},
   "source": [
    "Let's now extend our visualization by plotting it against the entire loss function in this region. Since the entire dataset is used for the computation of the loss function we obtain just one plane, and the trajectory that our optimizer takes is fairly smooth with almost no noise. This will not be the case when we start working with subsets of the data using stochastic gradient descent."
   ]
  },
  {
   "cell_type": "code",
   "execution_count": null,
   "metadata": {},
   "outputs": [],
   "source": [
    "loss_surface = []\n",
    "w_surface = []\n",
    "b_surface = []\n",
    "\n",
    "for w_value in np.linspace(0, 20, 200):\n",
    "    for b_value in np.linspace(-18, 22, 200):\n",
    "\n",
    "        # Collect information about the loss function surface \n",
    "        w.assign(w_value)\n",
    "        b.assign(b_value)\n",
    "\n",
    "        Y_predicted = forward(X)\n",
    "        loss_value = loss_fn(Y_predicted, Y)\n",
    "\n",
    "        b_surface.append(b_value)\n",
    "        w_surface.append(w_value)\n",
    "        loss_surface.append(loss_value)"
   ]
  },
  {
   "cell_type": "code",
   "execution_count": null,
   "metadata": {},
   "outputs": [],
   "source": [
    "plt.close()\n",
    "\n",
    "fig = plt.figure()\n",
    "ax2 = fig.gca(projection='3d')\n",
    "\n",
    "ax2.scatter(w_surface, b_surface, loss_surface, c = loss_surface, alpha = 0.02)\n",
    "ax2.plot(w_array, b_array, loss_array, color='black')\n",
    "\n",
    "ax2.set_xlabel('w')\n",
    "ax2.set_ylabel('b')\n",
    "\n",
    "plt.show()"
   ]
  },
  {
   "cell_type": "markdown",
   "metadata": {},
   "source": [
    "# Stochastic Gradient Descent\n",
    "\n",
    "In contrast to gradient descent, stochastic gradient descent does not use the entire dataset for the calculation of the shape of the loss function. Instead smaller subsets of the data are used. This has profound implications for the behavior of our algorithm. Since every batch is different, even for the same set of weights, the calculated loss will be different for an individual batch than for the entire dataset. Since the loss function is different for the batch, the gradient of the loss function will be different as well, which introduces a level of noise.\n",
    "\n",
    "Let's think about how stochastic gradient descent works as applied to our toy model. The thick green line illustrates the shape of the loss function given all the data. The thin green line is the shape of the loss function for an individual batch (sometimes called a minibatch). Since those curves are different the estimation of the gradient will be different at every step. This can be seen as adding an element of noise to the optimization process, hence the name \"stochastic\"."
   ]
  },
  {
   "cell_type": "markdown",
   "metadata": {},
   "source": [
    "#### Step 1\n",
    "\n",
    "![](./images/SGD1.png)"
   ]
  },
  {
   "cell_type": "markdown",
   "metadata": {},
   "source": [
    "#### Step 2\n",
    "\n",
    "![](./images/SGD2.png)"
   ]
  },
  {
   "cell_type": "markdown",
   "metadata": {},
   "source": [
    "#### Step 3\n",
    "\n",
    "![](./images/SGD3.png)"
   ]
  },
  {
   "cell_type": "markdown",
   "metadata": {},
   "source": [
    "This process can either be seen as generating an effective loss function which is mathematically different from the loss function for the full dataset (has different extrema), or it can be seen as helping to better locate the global minimum of the loss function of the full dataset because it is less likely to be trapped in local minima. (We will be investigating later how this plays out in the context of a realistic neural network model.) One can view gradient descent as an algorithm that averages out all of the noise of the batches, and larger batches as containing less noise than smaller batches."
   ]
  },
  {
   "cell_type": "markdown",
   "metadata": {},
   "source": [
    "## Implementing stochastic gradient descent: a first approach\n",
    "\n",
    "To demonstrate this phenomenon let's make a small change to our code. Rather than providing all of the data to the model in every iteration, we will provide just a single example (batch size of 1), amplifying the effect."
   ]
  },
  {
   "cell_type": "code",
   "execution_count": null,
   "metadata": {},
   "outputs": [],
   "source": [
    "# Define the maximum number of times we want to process the entire dataset (the number of epochs).\n",
    "# In practice we won't run this many because we'll implement an early stopping condition that\n",
    "# detects when the training process has converged.\n",
    "max_number_of_epochs = 1000\n",
    "\n",
    "# We will store information about the optimization process here.\n",
    "loss_array = []\n",
    "b_array = []\n",
    "w_array = []\n",
    "\n",
    "# Zero out the initial values\n",
    "w.assign(0.0)\n",
    "b.assign(0.0)\n",
    "\n",
    "# Print out the parameters and loss before we do any training\n",
    "Y_predicted = forward(X)\n",
    "loss_value = loss_fn(Y_predicted, Y)\n",
    "print(\"Before training: w = {:4.3f}, b = {:4.3f}, loss = {:7.3f}\".format(w.numpy(), b.numpy(), loss_value))\n",
    "\n",
    "print(\"\")\n",
    "print(\"Starting training\")\n",
    "print(\"\")\n",
    "\n",
    "# Start the training process\n",
    "for i in range(max_number_of_epochs):\n",
    "\n",
    "    # Update after every data point\n",
    "    for (x_pt, y_pt) in zip(x, y):\n",
    "\n",
    "        with tf.GradientTape() as tape:\n",
    "            y_predicted = forward(x_pt)\n",
    "            loss_value = loss_fn([y_predicted], [y_pt])\n",
    "\n",
    "        optimizer.minimize(loss_value, var_list=[w, b], tape=tape)\n",
    "\n",
    "        # Capture the data that we will use in our visualization\n",
    "        # Note that we are now updating our loss function after\n",
    "        # every point in the sample, so the size of loss_array\n",
    "        # will be greater by a factor of n_samples compared to\n",
    "        # the last exercise.\n",
    "        w_array.append(w.numpy())\n",
    "        b_array.append(b.numpy())\n",
    "        loss_array.append(loss_value)\n",
    "\n",
    "    # At the end of every epoch after the first, print out the learned weights\n",
    "    if i > 0:\n",
    "        avg_w = sum(w_array[(i-1)*n_samples:(i  )*n_samples]) / n_samples\n",
    "        avg_b = sum(b_array[(i-1)*n_samples:(i  )*n_samples]) / n_samples\n",
    "        avg_loss = sum(loss_array[(i-1)*n_samples:(i  )*n_samples]) / n_samples\n",
    "        print(\"Epoch = {:2d}: w = {:4.3f}, b = {:4.3f}, loss = {:7.3f}\".format(i+1, avg_w, avg_b, avg_loss))\n",
    "\n",
    "    # End the training when the loss function has not changed from the last epoch\n",
    "    # by more than a small amount. Note that in our convergence check we will compare\n",
    "    # the loss averaged over this epoch with the loss averaged over the last epoch.\n",
    "    if i > 1:\n",
    "        average_loss_this_epoch = sum(loss_array[(i-1)*n_samples:(i  )*n_samples]) / n_samples\n",
    "        average_loss_last_epoch = sum(loss_array[(i-2)*n_samples:(i-1)*n_samples]) / n_samples\n",
    "        if abs(average_loss_this_epoch - average_loss_last_epoch) / average_loss_last_epoch < 0.001:\n",
    "            break\n",
    "\n",
    "print(\"\")\n",
    "print(\"Training finished after {} epochs\".format(i+1))\n",
    "print(\"\")\n",
    "    \n",
    "avg_w = sum(w_array[(i-1)*n_samples:(i  )*n_samples]) / n_samples\n",
    "avg_b = sum(b_array[(i-1)*n_samples:(i  )*n_samples]) / n_samples\n",
    "avg_loss = sum(loss_array[(i-1)*n_samples:(i  )*n_samples]) / n_samples\n",
    "    \n",
    "print(\"After training: w = {:4.3f}, b = {:4.3f}, loss = {:7.3f}\".format(avg_w, avg_b, avg_loss))"
   ]
  },
  {
   "cell_type": "markdown",
   "metadata": {},
   "source": [
    "Compare the final loss value to what we obtained before, as well as the model parameters. You probably did not get the same value for the total loss -- was the answer any more accurate?\n",
    "\n",
    "Let's plot the loss over time. One choice we can make is to plot the loss after every update. This will probably be a significantly noisier curve, since we aren't averaging out updates over an entire pass through the dataset."
   ]
  },
  {
   "cell_type": "code",
   "execution_count": null,
   "metadata": {},
   "outputs": [],
   "source": [
    "plt.close()\n",
    "plt.plot(loss_array)\n",
    "plt.xlabel(\"Number of Updates\", size=24)\n",
    "plt.ylabel(\"Loss\", size=24)\n",
    "plt.tick_params(axis='both', labelsize=16)\n",
    "plt.tight_layout()\n",
    "plt.show()"
   ]
  },
  {
   "cell_type": "markdown",
   "metadata": {},
   "source": [
    "We can see a similar effect by plotting the trajectory taken by our optimizer in the loss space."
   ]
  },
  {
   "cell_type": "code",
   "execution_count": null,
   "metadata": {},
   "outputs": [],
   "source": [
    "from mpl_toolkits.mplot3d import Axes3D\n",
    "\n",
    "plt.close()\n",
    "\n",
    "fig = plt.figure()\n",
    "ax = fig.gca(projection='3d')\n",
    "ax.plot(w_array, b_array, loss_array)\n",
    "\n",
    "ax.set_xlabel('w', size=16)\n",
    "ax.set_ylabel('b', size=16)\n",
    "ax.tick_params(labelsize=12)\n",
    "\n",
    "plt.show()"
   ]
  },
  {
   "cell_type": "markdown",
   "metadata": {},
   "source": [
    "<div>Plotting the loss surface for one of the mini batches clearly illustrates that it no longer aligns with the optimization trajectory which was generated one minibatch at a time (and for every minibatch the loss surface was indeed different).</div>"
   ]
  },
  {
   "cell_type": "code",
   "execution_count": null,
   "metadata": {},
   "outputs": [],
   "source": [
    "plt.close()\n",
    "\n",
    "fig = plt.figure()\n",
    "ax2 = fig.gca(projection='3d')\n",
    "\n",
    "ax2.scatter(w_surface, b_surface, loss_surface, c = loss_surface, alpha = 0.02)\n",
    "ax2.plot(w_array, b_array, loss_array, color='black')\n",
    "\n",
    "ax2.set_xlabel('w')\n",
    "ax2.set_ylabel('b')\n",
    "\n",
    "plt.show()"
   ]
  },
  {
   "cell_type": "markdown",
   "metadata": {},
   "source": [
    "## Experimenting with batch size in this toy model\n",
    "\n",
    "So, we've now compared two extremes: stochastic gradient descent where the batch size is the full dataset (that is, traditional gradient descent), and SGD where the batch size is 1. Let's try out some batch sizes in the middle. To do this, modify the code we used above to pass a subset of the data to be trained on in each step. All you need to do is loop through the dataset in order, passing each consecutive chunk of batch size M to the optimizer. Your implementation ideally should work for any number M where 1 <= M <= N, where N is the number of items in the dataset. The dataset will usually not be evenly divisible by the size of the batch, so make sure you handle the last batch in the dataset by just using all the remaining items (so it will be a smaller batch)."
   ]
  },
  {
   "cell_type": "code",
   "execution_count": null,
   "metadata": {},
   "outputs": [],
   "source": [
    "# Define the maximum number of times we want to process the entire dataset (the number of epochs).\n",
    "# In practice we won't run this many because we'll implement an early stopping condition that\n",
    "# detects when the training process has converged.\n",
    "max_number_of_epochs = 1000\n",
    "\n",
    "# We still store information about the optimization process here.\n",
    "loss_array = []\n",
    "b_array = []\n",
    "w_array = []\n",
    "\n",
    "# Zero out the initial values\n",
    "w.assign(0.0)\n",
    "b.assign(0.0)\n",
    "\n",
    "# Print out the parameters and loss before we do any training\n",
    "Y_predicted = forward(X)\n",
    "loss_value = loss_fn(Y_predicted, Y)\n",
    "print(\"Before training: w = {:4.3f}, b = {:4.3f}, loss = {:7.3f}\".format(w.numpy(), b.numpy(), loss_value))\n",
    "\n",
    "print(\"\")\n",
    "print(\"Starting training\")\n",
    "print(\"\")\n",
    "\n",
    "# Pass in batches of the dataset\n",
    "# After the first run, try batch sizes of 16, 64, and 128\n",
    "batch_size = 32\n",
    "num_batches_in_epoch = FIXME\n",
    "\n",
    "# Start the training process\n",
    "for i in range(max_number_of_epochs):\n",
    "\n",
    "    for j in range(num_batches_in_epoch):\n",
    "        batch_start = FIXME\n",
    "        batch_end = FIXME\n",
    "\n",
    "        with tf.GradientTape() as tape:\n",
    "            y_predicted = forward(x[batch_start:batch_end])\n",
    "            loss_value = loss_fn(y_predicted, y[batch_start:batch_end])\n",
    "\n",
    "        optimizer.minimize(loss_value, var_list=[w, b], tape=tape)\n",
    "\n",
    "        # Capture the data that we will use in our visualization\n",
    "        w_array.append(w.numpy())\n",
    "        b_array.append(b.numpy())\n",
    "        loss_array.append(loss_value)\n",
    "\n",
    "    # At the end of every epoch after the first, print out the learned weights\n",
    "    if i > 0:\n",
    "        avg_w = sum(w_array[(i-1)*num_batches_in_epoch:(i  )*num_batches_in_epoch]) / num_batches_in_epoch\n",
    "        avg_b = sum(b_array[(i-1)*num_batches_in_epoch:(i  )*num_batches_in_epoch]) / num_batches_in_epoch\n",
    "        avg_loss = sum(loss_array[(i-1)*num_batches_in_epoch:(i  )*num_batches_in_epoch]) / num_batches_in_epoch\n",
    "        print(\"Epoch = {:2d}: w = {:4.3f}, b = {:4.3f}, loss = {:7.3f}\".format(i+1, avg_w, avg_b, avg_loss))\n",
    "\n",
    "    # End the training when the loss function has not changed from the last epoch\n",
    "    # by more than a small amount. Note that in our convergence check we will compare\n",
    "    # the loss averaged over this epoch with the loss averaged over the last epoch.\n",
    "    if i > 1:\n",
    "        average_loss_this_epoch = sum(loss_array[(i-1)*num_batches_in_epoch:(i  )*num_batches_in_epoch]) / num_batches_in_epoch\n",
    "        average_loss_last_epoch = sum(loss_array[(i-2)*num_batches_in_epoch:(i-1)*num_batches_in_epoch]) / num_batches_in_epoch\n",
    "        if abs(average_loss_this_epoch - average_loss_last_epoch) / average_loss_last_epoch < 0.001:\n",
    "            break\n",
    "\n",
    "print(\"\")\n",
    "print(\"Training finished after {} epochs\".format(i+1))\n",
    "print(\"\")\n",
    "\n",
    "avg_w = sum(w_array[(i-1)*num_batches_in_epoch:(i  )*num_batches_in_epoch]) / num_batches_in_epoch\n",
    "avg_b = sum(b_array[(i-1)*num_batches_in_epoch:(i  )*num_batches_in_epoch]) / num_batches_in_epoch\n",
    "avg_loss = sum(loss_array[(i-1)*num_batches_in_epoch:(i  )*num_batches_in_epoch]) / num_batches_in_epoch\n",
    "\n",
    "print(\"After training: w = {:4.3f}, b = {:4.3f}, loss = {:7.3f}\".format(avg_w, avg_b, avg_loss))"
   ]
  },
  {
   "cell_type": "markdown",
   "metadata": {},
   "source": [
    "If you get stuck with the above exercise, reveal the cell below to see an example solution."
   ]
  },
  {
   "cell_type": "markdown",
   "metadata": {
    "jupyter": {
     "source_hidden": true
    }
   },
   "source": [
    "<font face=\"courier\">\n",
    "<pre>\n",
    "\n",
    "num_batches_in_epoch = (n_samples + batch_size - 1) // batch_size\n",
    "    \n",
    "...\n",
    "\n",
    "    for j in range(num_batches_in_epoch):\n",
    "        batch_start = j * batch_size\n",
    "        batch_end = min((j + 1) * batch_size, n_samples)\n",
    "\n",
    "</pre>\n",
    "</font>"
   ]
  },
  {
   "cell_type": "markdown",
   "metadata": {},
   "source": [
    "Now for each batch size you try, repeat the plotting process to see how things went. Note which batch size yielded the best final accuracy, but in particular pay attention to the smoothness of the accuracy curve as a function of epoch count, and consider how that smoothness depends on batch size."
   ]
  },
  {
   "cell_type": "code",
   "execution_count": null,
   "metadata": {},
   "outputs": [],
   "source": [
    "plt.close()\n",
    "plt.plot(loss_array)\n",
    "plt.xlabel(\"Number of Updates\", size=24)\n",
    "plt.ylabel(\"Loss\", size=24)\n",
    "plt.tick_params(axis='both', labelsize=16)\n",
    "plt.tight_layout()\n",
    "plt.show()"
   ]
  },
  {
   "cell_type": "code",
   "execution_count": null,
   "metadata": {},
   "outputs": [],
   "source": [
    "from mpl_toolkits.mplot3d import Axes3D\n",
    "\n",
    "plt.close()\n",
    "\n",
    "fig = plt.figure()\n",
    "ax = fig.gca(projection='3d')\n",
    "ax.plot(w_array, b_array, loss_array)\n",
    "\n",
    "ax.set_xlabel('w', size=16)\n",
    "ax.set_ylabel('b', size=16)\n",
    "ax.tick_params(labelsize=12)\n",
    "\n",
    "plt.show()"
   ]
  },
  {
   "cell_type": "code",
   "execution_count": null,
   "metadata": {},
   "outputs": [],
   "source": [
    "plt.close()\n",
    "\n",
    "fig = plt.figure()\n",
    "ax2 = fig.gca(projection='3d')\n",
    "\n",
    "ax2.scatter(w_surface, b_surface, loss_surface, c = loss_surface, alpha = 0.02)\n",
    "ax2.plot(w_array, b_array, loss_array, color='black')\n",
    "\n",
    "ax2.set_xlabel('w')\n",
    "ax2.set_ylabel('b')\n",
    "\n",
    "plt.show()"
   ]
  },
  {
   "cell_type": "markdown",
   "metadata": {},
   "source": [
    "## Conclusion\n",
    "\n",
    "In this task we have learned:\n",
    "\n",
    "- The basic components of the neural network training process\n",
    "- How to implement a gradient descent optimizer\n",
    "- The difference between gradient descent and stochastic gradient descent and the impact they have on the optimization process\n",
    "- How batch size affects training accuracy\n",
    "\n",
    "In the next part of this lab we will take the code developed above and expand it to a larger neural network so that we can eventually demonstrate a multi-GPU implementation."
   ]
  },
  {
   "cell_type": "markdown",
   "metadata": {},
   "source": [
    "Before you move to the next part of the exercise (in the next notebook) please make sure you free any used GPU resources by restarting the IPython kernel. You can do that either by selecting Kernel -> Restart or running the code snippet below."
   ]
  },
  {
   "cell_type": "code",
   "execution_count": null,
   "metadata": {},
   "outputs": [],
   "source": [
    "import IPython\n",
    "app = IPython.Application.instance()\n",
    "app.kernel.do_shutdown(True)"
   ]
  },
  {
   "cell_type": "markdown",
   "metadata": {},
   "source": [
    "<img src=\"./images/DLI_Header.png\">"
   ]
  }
 ],
 "metadata": {
  "kernelspec": {
   "display_name": "Python 3",
   "language": "python",
   "name": "python3"
  },
  "language_info": {
   "codemirror_mode": {
    "name": "ipython",
    "version": 3
   },
   "file_extension": ".py",
   "mimetype": "text/x-python",
   "name": "python",
   "nbconvert_exporter": "python",
   "pygments_lexer": "ipython3",
   "version": "3.8.5"
  }
 },
 "nbformat": 4,
 "nbformat_minor": 4
}
