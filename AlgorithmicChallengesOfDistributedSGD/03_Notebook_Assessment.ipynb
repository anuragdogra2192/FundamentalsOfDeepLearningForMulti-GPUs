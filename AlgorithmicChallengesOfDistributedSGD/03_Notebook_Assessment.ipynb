{
 "cells": [
  {
   "cell_type": "markdown",
   "metadata": {},
   "source": [
    "<img src=\"../images/DLI_Header.png\">"
   ]
  },
  {
   "cell_type": "markdown",
   "metadata": {},
   "source": [
    "## Multi-GPU Assessment\n",
    "\n",
    "In this assessment, you will alter a training script to train on a new dataset (CIFAR-10). Please take a look at the `assessment.py` file, after first making a copy for reference:"
   ]
  },
  {
   "cell_type": "code",
   "execution_count": null,
   "metadata": {},
   "outputs": [],
   "source": [
    "!cp assessment.py assessment_original.py"
   ]
  },
  {
   "cell_type": "markdown",
   "metadata": {},
   "source": [
    "You can run a serial training session using the code cell below."
   ]
  },
  {
   "cell_type": "code",
   "execution_count": null,
   "metadata": {
    "scrolled": true
   },
   "outputs": [],
   "source": [
    "!python assessment_original.py"
   ]
  },
  {
   "cell_type": "markdown",
   "metadata": {},
   "source": [
    "### Objective\n",
    "\n",
    "The objective of this assessment is for you to alter the `assessment.py` file __so that it trains to a training accuracy (accuracy) of 0.75 within four minutes (240 seconds).__ In order to ensure that the model is beginning to converge on the validation metric, you must achieve a validation accuracy (val_accuracy) of at least 0.25. Both requirements must be achieved for at least two consecutive epochs."
   ]
  },
  {
   "cell_type": "markdown",
   "metadata": {},
   "source": [
    "### Directions\n",
    "\n",
    "You will need to alter the `assessment.py` file so that it can use multiple GPUs with Horovod. The assessment script will run your script with as many GPUs as there are on this server. (So while it may be possible to meet the accuracy requirement with fewer GPUs, your training script needs to be correct when launched with the full set of GPUs.) You can look at any files that you've had access to in this lab for reference. Some factors to think about are the learning rate, the batch size, and the optimizer.\n",
    "\n",
    "The `assessment.py` training script includes the `PrintTotalTime` callback that we've used in previous exercises so that you can track your time, and the `StopAtAccuracy` callback to automatically enforce the requirement. You **must not edit or remove these two callbacks**; your assessment will fail if you do. Other callbacks may be added or removed at your discretion. Note that there is other code in this script which helps ensure that this problem is solveable, such as setting the numpy random seed to make the results more deterministic; remove this code only at your own risk.\n",
    "\n",
    "While you are experimenting, you can use arguments such as `--batch-size` and `--base-lr` when running the training. However, when you have found parameters that will pass the assessment, save those parameters as the defaults in `assessment.py`, because the testing apparatus will run your `assessment.py` script with no arguments. For example, if you want the assessment to test your code with a batch size of 16, please alter the file like so:\n",
    "```python\n",
    "parser.add_argument('--batch-size', type=int, default=16,\n",
    "                    help='input batch size for training')\n",
    "```\n",
    "\n",
    "Once you have altered `assessment.py` such that the criteria are met, you can go back to the course page and click the assess button.\n",
    "\n",
    "Your code will run and you'll get a notification within 3 minutes whether you've passed or not."
   ]
  },
  {
   "cell_type": "markdown",
   "metadata": {},
   "source": [
    "You can test your performance here before submitting it. You are encouraged to do so, so that you can gain confidence that you will pass."
   ]
  },
  {
   "cell_type": "code",
   "execution_count": null,
   "metadata": {
    "scrolled": true
   },
   "outputs": [],
   "source": [
    "!mpirun -np FIXME python assessment.py"
   ]
  }
 ],
 "metadata": {
  "kernelspec": {
   "display_name": "Python 3",
   "language": "python",
   "name": "python3"
  },
  "language_info": {
   "codemirror_mode": {
    "name": "ipython",
    "version": 3
   },
   "file_extension": ".py",
   "mimetype": "text/x-python",
   "name": "python",
   "nbconvert_exporter": "python",
   "pygments_lexer": "ipython3",
   "version": "3.8.5"
  },
  "output_auto_scroll": true
 },
 "nbformat": 4,
 "nbformat_minor": 4
}
